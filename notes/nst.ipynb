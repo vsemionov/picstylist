{
 "cells": [
  {
   "cell_type": "code",
   "metadata": {},
   "source": [
    "import sys\n",
    "import io\n",
    "import logging\n",
    "from importlib import reload\n",
    "import matplotlib.pyplot as plt\n",
    "from PIL import Image\n",
    "import ipywidgets as widgets\n",
    "\n",
    "sys.path.append('../')\n",
    "from worker import iterative"
   ],
   "outputs": [],
   "execution_count": null
  },
  {
   "metadata": {},
   "cell_type": "code",
   "source": [
    "iterative.logger.setLevel(logging.INFO)\n",
    "iterative.logger.handlers = [logging.StreamHandler()]"
   ],
   "outputs": [],
   "execution_count": null
  },
  {
   "cell_type": "code",
   "metadata": {},
   "source": [
    "content_uploader = widgets.FileUpload(accept='image/*')\n",
    "print('Content image')\n",
    "display(content_uploader)"
   ],
   "outputs": [],
   "execution_count": null
  },
  {
   "cell_type": "code",
   "metadata": {},
   "source": [
    "style_uploader = widgets.FileUpload(accept='image/*')\n",
    "print('Style image')\n",
    "display(style_uploader)"
   ],
   "outputs": [],
   "execution_count": null
  },
  {
   "cell_type": "code",
   "metadata": {},
   "source": [
    "content_file = io.BytesIO(content_uploader.value[0].content.tobytes())\n",
    "style_file = io.BytesIO(style_uploader.value[0].content.tobytes())\n",
    "# content_file = 'content.jpg'\n",
    "# style_file = 'style.jpg'\n",
    "content_image = Image.open(content_file).convert('RGB')\n",
    "style_image = Image.open(style_file).convert('RGB')"
   ],
   "outputs": [],
   "execution_count": null
  },
  {
   "cell_type": "code",
   "metadata": {},
   "source": [
    "plt.figure(figsize=(8, 8))\n",
    "p = plt.subplot(121)\n",
    "p.imshow(content_image)\n",
    "p.axis('off')\n",
    "p = plt.subplot(122)\n",
    "p.imshow(style_image)\n",
    "p.axis('off')\n",
    "plt.show()"
   ],
   "outputs": [],
   "execution_count": null
  },
  {
   "cell_type": "code",
   "metadata": {},
   "source": [
    "max_size = 512\n",
    "images = []\n",
    "for image in (content_image, style_image):\n",
    "    size = image.size\n",
    "    long_edge = max(size)\n",
    "    if long_edge > max_size:\n",
    "        scale = max_size / long_edge\n",
    "        size = [max(round(s * scale), 1) for s in size]\n",
    "        image = image.resize(size, resample=Image.Resampling.BILINEAR)\n",
    "    images.append(image)"
   ],
   "outputs": [],
   "execution_count": null
  },
  {
   "cell_type": "code",
   "metadata": {},
   "source": [
    "iterative = reload(iterative)\n",
    "image = iterative.style_transfer(*images, 100)"
   ],
   "outputs": [],
   "execution_count": null
  },
  {
   "metadata": {},
   "cell_type": "code",
   "source": [
    "plt.figure(figsize=(8, 8))\n",
    "plt.imshow(image)\n",
    "plt.axis('off')\n",
    "plt.show()"
   ],
   "outputs": [],
   "execution_count": null
  }
 ],
 "metadata": {
  "kernelspec": {
   "display_name": "ml",
   "language": "python",
   "name": "python3"
  },
  "language_info": {
   "codemirror_mode": {
    "name": "ipython",
    "version": 3
   },
   "file_extension": ".py",
   "mimetype": "text/x-python",
   "name": "python",
   "nbconvert_exporter": "python",
   "pygments_lexer": "ipython3",
   "version": "3.12.3"
  }
 },
 "nbformat": 4,
 "nbformat_minor": 2
}
